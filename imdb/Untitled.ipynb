{
 "cells": [
  {
   "cell_type": "code",
   "execution_count": 2,
   "id": "0ee749de",
   "metadata": {},
   "outputs": [],
   "source": [
    "#importing the libraries needed \n",
    "import pandas as pd\n",
    "import numpy as np\n",
    "import requests\n",
    "from bs4 import BeautifulSoup\n",
    "from time import sleep\n",
    "from random import randint\n",
    "\n",
    "#Declaring the headers \n",
    "headers = {\"Accept-Language\": \"en-US,en;q=0.5\"}\n",
    "\n",
    "#declaring the list of empty variables, So that we can append the data overall\n",
    "\n",
    "movie_name = []\n",
    "year = []\n",
    "time=[]\n",
    "rating=[]\n",
    "metascore =[]\n",
    "votes = []\n",
    "gross = []\n",
    "description = []\n",
    "\n",
    "#creating an array of values and passing it in the url for dynamic webpages\n",
    "pages = np.arange(1,1000,100)\n",
    "\n",
    "#the whole core of the script\n",
    "for page in pages:\n",
    "    page = requests.get(\"https://www.imdb.com/search/title/?groups=top_1000&sort=user_rating,desc&count=100&start=\"+str(page)+\"&ref_=adv_nxt\")\n",
    "    soup = BeautifulSoup(page.text, 'html.parser')\n",
    "    movie_data = soup.findAll('div', attrs = {'class': 'lister-item mode-advanced'})\n",
    "    sleep(randint(2,8))\n",
    "    for store in movie_data:\n",
    "        name = store.h3.a.text\n",
    "        movie_name.append(name)\n",
    "        \n",
    "        year_of_release = store.h3.find('span', class_ = \"lister-item-year text-muted unbold\").text\n",
    "        year.append(year_of_release)\n",
    "        \n",
    "        runtime = store.p.find(\"span\", class_ = 'runtime').text\n",
    "        time.append(runtime)\n",
    "        \n",
    "        rate = store.find('div', class_ = \"inline-block ratings-imdb-rating\").text.replace('\\n', '')\n",
    "        rating.append(rate)\n",
    "        \n",
    "        meta = store.find('span', class_ = \"metascore\").text if store.find('span', class_ = \"metascore\") else \"****\"\n",
    "        metascore.append(meta)\n",
    "        \n",
    "        \n",
    "        value = store.find_all('span', attrs = {'name': \"nv\"})\n",
    "        \n",
    "        vote = value[0].text\n",
    "        votes.append(vote)\n",
    "        \n",
    "        grosses = value[1].text if len(value)>1 else '%^%^%^'\n",
    "        gross.append(grosses)\n",
    "        \n",
    "        # Description of the Movies -- Not explained in the Video, But you will figure it out. \n",
    "        describe = store.find_all('p', class_ = 'text-muted')\n",
    "        description_ = describe[1].text.replace('\\n', '') if len(describe) >1 else '*****'\n",
    "        description.append(description_)\n",
    "        \n",
    "#creating a dataframe \n",
    "liste = pd.DataFrame({ \"Movie Name\": movie_name, \"Year of Release\" : year, \"Watch Time\": time,\"Movie Rating\": rating,  \"Votes\" : votes, \"Gross\": gross})\n"
   ]
  },
  {
   "cell_type": "code",
   "execution_count": 3,
   "id": "725a7d9b",
   "metadata": {},
   "outputs": [
    {
     "data": {
      "text/html": [
       "<div>\n",
       "<style scoped>\n",
       "    .dataframe tbody tr th:only-of-type {\n",
       "        vertical-align: middle;\n",
       "    }\n",
       "\n",
       "    .dataframe tbody tr th {\n",
       "        vertical-align: top;\n",
       "    }\n",
       "\n",
       "    .dataframe thead th {\n",
       "        text-align: right;\n",
       "    }\n",
       "</style>\n",
       "<table border=\"1\" class=\"dataframe\">\n",
       "  <thead>\n",
       "    <tr style=\"text-align: right;\">\n",
       "      <th></th>\n",
       "      <th>Movie Name</th>\n",
       "      <th>Year of Release</th>\n",
       "      <th>Watch Time</th>\n",
       "      <th>Movie Rating</th>\n",
       "      <th>Votes</th>\n",
       "      <th>Gross</th>\n",
       "    </tr>\n",
       "  </thead>\n",
       "  <tbody>\n",
       "    <tr>\n",
       "      <th>0</th>\n",
       "      <td>Die Verurteilten</td>\n",
       "      <td>(1994)</td>\n",
       "      <td>142 min</td>\n",
       "      <td>9.3</td>\n",
       "      <td>2,698,643</td>\n",
       "      <td>$28.34M</td>\n",
       "    </tr>\n",
       "    <tr>\n",
       "      <th>1</th>\n",
       "      <td>Der Pate</td>\n",
       "      <td>(1972)</td>\n",
       "      <td>175 min</td>\n",
       "      <td>9.2</td>\n",
       "      <td>1,872,887</td>\n",
       "      <td>$134.97M</td>\n",
       "    </tr>\n",
       "    <tr>\n",
       "      <th>2</th>\n",
       "      <td>The Dark Knight</td>\n",
       "      <td>(2008)</td>\n",
       "      <td>152 min</td>\n",
       "      <td>9.0</td>\n",
       "      <td>2,672,414</td>\n",
       "      <td>$534.86M</td>\n",
       "    </tr>\n",
       "    <tr>\n",
       "      <th>3</th>\n",
       "      <td>Schindlers Liste</td>\n",
       "      <td>(1993)</td>\n",
       "      <td>195 min</td>\n",
       "      <td>9.0</td>\n",
       "      <td>1,364,295</td>\n",
       "      <td>$96.90M</td>\n",
       "    </tr>\n",
       "    <tr>\n",
       "      <th>4</th>\n",
       "      <td>Der Pate 2</td>\n",
       "      <td>(1974)</td>\n",
       "      <td>202 min</td>\n",
       "      <td>9.0</td>\n",
       "      <td>1,279,978</td>\n",
       "      <td>$57.30M</td>\n",
       "    </tr>\n",
       "    <tr>\n",
       "      <th>...</th>\n",
       "      <td>...</td>\n",
       "      <td>...</td>\n",
       "      <td>...</td>\n",
       "      <td>...</td>\n",
       "      <td>...</td>\n",
       "      <td>...</td>\n",
       "    </tr>\n",
       "    <tr>\n",
       "      <th>995</th>\n",
       "      <td>Philomena: Eine Mutter sucht ihren Sohn</td>\n",
       "      <td>(2013)</td>\n",
       "      <td>98 min</td>\n",
       "      <td>7.6</td>\n",
       "      <td>101,176</td>\n",
       "      <td>$37.71M</td>\n",
       "    </tr>\n",
       "    <tr>\n",
       "      <th>996</th>\n",
       "      <td>Der Unsichtbare</td>\n",
       "      <td>(1933)</td>\n",
       "      <td>71 min</td>\n",
       "      <td>7.6</td>\n",
       "      <td>36,838</td>\n",
       "      <td>%^%^%^</td>\n",
       "    </tr>\n",
       "    <tr>\n",
       "      <th>997</th>\n",
       "      <td>Schreckenshaus des Dr. Rasanoff</td>\n",
       "      <td>(1960)</td>\n",
       "      <td>90 min</td>\n",
       "      <td>7.6</td>\n",
       "      <td>32,645</td>\n",
       "      <td>$0.05M</td>\n",
       "    </tr>\n",
       "    <tr>\n",
       "      <th>998</th>\n",
       "      <td>Shine - Der Weg ins Licht</td>\n",
       "      <td>(1996)</td>\n",
       "      <td>105 min</td>\n",
       "      <td>7.6</td>\n",
       "      <td>54,877</td>\n",
       "      <td>$35.81M</td>\n",
       "    </tr>\n",
       "    <tr>\n",
       "      <th>999</th>\n",
       "      <td>Zelle 211 - Der Knastaufstand</td>\n",
       "      <td>(2009)</td>\n",
       "      <td>113 min</td>\n",
       "      <td>7.6</td>\n",
       "      <td>68,563</td>\n",
       "      <td>%^%^%^</td>\n",
       "    </tr>\n",
       "  </tbody>\n",
       "</table>\n",
       "<p>1000 rows × 6 columns</p>\n",
       "</div>"
      ],
      "text/plain": [
       "                                  Movie Name Year of Release Watch Time  \\\n",
       "0                           Die Verurteilten          (1994)    142 min   \n",
       "1                                   Der Pate          (1972)    175 min   \n",
       "2                            The Dark Knight          (2008)    152 min   \n",
       "3                           Schindlers Liste          (1993)    195 min   \n",
       "4                                 Der Pate 2          (1974)    202 min   \n",
       "..                                       ...             ...        ...   \n",
       "995  Philomena: Eine Mutter sucht ihren Sohn          (2013)     98 min   \n",
       "996                          Der Unsichtbare          (1933)     71 min   \n",
       "997          Schreckenshaus des Dr. Rasanoff          (1960)     90 min   \n",
       "998                Shine - Der Weg ins Licht          (1996)    105 min   \n",
       "999            Zelle 211 - Der Knastaufstand          (2009)    113 min   \n",
       "\n",
       "    Movie Rating      Votes     Gross  \n",
       "0            9.3  2,698,643   $28.34M  \n",
       "1            9.2  1,872,887  $134.97M  \n",
       "2            9.0  2,672,414  $534.86M  \n",
       "3            9.0  1,364,295   $96.90M  \n",
       "4            9.0  1,279,978   $57.30M  \n",
       "..           ...        ...       ...  \n",
       "995          7.6    101,176   $37.71M  \n",
       "996          7.6     36,838    %^%^%^  \n",
       "997          7.6     32,645    $0.05M  \n",
       "998          7.6     54,877   $35.81M  \n",
       "999          7.6     68,563    %^%^%^  \n",
       "\n",
       "[1000 rows x 6 columns]"
      ]
     },
     "execution_count": 3,
     "metadata": {},
     "output_type": "execute_result"
    }
   ],
   "source": [
    "liste"
   ]
  },
  {
   "cell_type": "code",
   "execution_count": 4,
   "id": "e5d95449",
   "metadata": {},
   "outputs": [
    {
     "data": {
      "text/plain": [
       "'(1920)'"
      ]
     },
     "execution_count": 4,
     "metadata": {},
     "output_type": "execute_result"
    }
   ],
   "source": [
    "liste['Year of Release'].min()\n"
   ]
  },
  {
   "cell_type": "code",
   "execution_count": 5,
   "id": "ee799555",
   "metadata": {},
   "outputs": [
    {
     "name": "stdout",
     "output_type": "stream",
     "text": [
      "['(1994)' '(1972)' '(2008)' '(1993)' '(1974)' '(1957)' '(2003)' '(2022)'\n",
      " '(2010)' '(1999)' '(2001)' '(1966)' '(2002)' '(2021)' '(1990)' '(1975)'\n",
      " '(1980)' '(2020)' '(2014)' '(1995)' '(1991)' '(1998)' '(1977)' '(1997)'\n",
      " '(1946)' '(1954)' '(1962)' '(2019)' '(2000)' '(2006)' '(1979)' '(1985)'\n",
      " '(1942)' '(2011)' '(1960)' '(1968)' '(1988)' '(1936)' '(1931)'\n",
      " '(II) (2018)' '(I) (2019)' '(1981)' '(2012)' '(2018)' '(1986)' '(1984)'\n",
      " '(I) (2017)' '(2016)' '(2009)' '(1964)' '(1950)' '(1940)' '(1963)'\n",
      " '(2004)' '(1983)' '(1971)' '(1992)' '(1952)' '(1987)' '(1973)' '(1941)'\n",
      " '(1958)' '(1927)' '(1959)' '(1961)' '(1944)' '(2007)' '(1948)' '(1921)'\n",
      " '(2017)' '(1955)' '(2013)' '(1976)' '(I) (2020)' '(2005)' '(1989)'\n",
      " '(I) (2015)' '(1982)' '(1939)' '(1969)' '(2015)' '(1965)' '(1953)'\n",
      " '(1928)' '(1924)' '(1996)' '(1930)' '(1978)' '(I) (2013)' '(1967)'\n",
      " '(1949)' '(1934)' '(1926)' '(1925)' '(1951)' '(III) (2016)' '(1937)'\n",
      " '(I) (2014)' '(1920)' '(1956)' '(1947)' '(1945)' '(I) (2004)'\n",
      " '(II) (2016)' '(1922)' '(I) (2011)' '(1933)' '(1970)' '(1938)'\n",
      " '(I) (2001)' '(I) (2008)' '(I) (2010)' '(I) (2006)' '(1932)' '(I) (2007)'\n",
      " '(1943)' '(1935)' '(II) (2022)' '(I) (1995)' '(I) (2016)' '(III) (2018)'\n",
      " '(I) (1985)']\n"
     ]
    }
   ],
   "source": [
    "print(liste['Year of Release'].unique())"
   ]
  },
  {
   "cell_type": "code",
   "execution_count": 18,
   "id": "b071b1ad",
   "metadata": {},
   "outputs": [],
   "source": [
    "liste['Year of Release'] =  liste['Year of Release'].apply(lambda x: x.replace('(I)','').replace('(II)','').replace('(III)','')liste['Year of Release'] =  liste['Year of Release'].apply(lambda x: x "
   ]
  },
  {
   "cell_type": "code",
   "execution_count": null,
   "id": "0cf11f5c",
   "metadata": {},
   "outputs": [],
   "source": [
    "liste['Year of Release'] =  liste['Year of Release'].apply(lambda x: x"
   ]
  },
  {
   "cell_type": "code",
   "execution_count": 19,
   "id": "a736ae16",
   "metadata": {},
   "outputs": [
    {
     "name": "stdout",
     "output_type": "stream",
     "text": [
      "['(1994)' '(1972)' '(2008)' '(1993)' '(1974)' '(1957)' '(2003)' '(2022)'\n",
      " '(2010)' '(1999)' '(2001)' '(1966)' '(2002)' '(2021)' '(1990)' '(1975)'\n",
      " '(1980)' '(2020)' '(2014)' '(1995)' '(1991)' '(1998)' '(1977)' '(1997)'\n",
      " '(1946)' '(1954)' '(1962)' '(2019)' '(2000)' '(2006)' '(1979)' '(1985)'\n",
      " '(1942)' '(2011)' '(1960)' '(1968)' '(1988)' '(1936)' '(1931)' ' (2018)'\n",
      " ' (2019)' '(1981)' '(2012)' '(2018)' '(1986)' '(1984)' ' (2017)' '(2016)'\n",
      " '(2009)' '(1964)' '(1950)' '(1940)' '(1963)' '(2004)' '(1983)' '(1971)'\n",
      " '(1992)' '(1952)' '(1987)' '(1973)' '(1941)' '(1958)' '(1927)' '(1959)'\n",
      " '(1961)' '(1944)' '(2007)' '(1948)' '(1921)' '(2017)' '(1955)' '(2013)'\n",
      " '(1976)' ' (2020)' '(2005)' '(1989)' ' (2015)' '(1982)' '(1939)' '(1969)'\n",
      " '(2015)' '(1965)' '(1953)' '(1928)' '(1924)' '(1996)' '(1930)' '(1978)'\n",
      " ' (2013)' '(1967)' '(1949)' '(1934)' '(1926)' '(1925)' '(1951)' ' (2016)'\n",
      " '(1937)' ' (2014)' '(1920)' '(1956)' '(1947)' '(1945)' ' (2004)' '(1922)'\n",
      " ' (2011)' '(1933)' '(1970)' '(1938)' ' (2001)' ' (2008)' ' (2010)'\n",
      " ' (2006)' '(1932)' ' (2007)' '(1943)' '(1935)' ' (2022)' ' (1995)'\n",
      " ' (1985)']\n"
     ]
    }
   ],
   "source": [
    "print(liste['Year of Release'].unique())"
   ]
  },
  {
   "cell_type": "code",
   "execution_count": 20,
   "id": "942d582d",
   "metadata": {},
   "outputs": [
    {
     "data": {
      "text/plain": [
       "'(2022)'"
      ]
     },
     "execution_count": 20,
     "metadata": {},
     "output_type": "execute_result"
    }
   ],
   "source": [
    "liste['Year of Release'].max()"
   ]
  },
  {
   "cell_type": "code",
   "execution_count": 1,
   "id": "6ec84d6e",
   "metadata": {},
   "outputs": [
    {
     "ename": "NameError",
     "evalue": "name 'liste' is not defined",
     "output_type": "error",
     "traceback": [
      "\u001b[1;31m---------------------------------------------------------------------------\u001b[0m",
      "\u001b[1;31mNameError\u001b[0m                                 Traceback (most recent call last)",
      "Input \u001b[1;32mIn [1]\u001b[0m, in \u001b[0;36m<cell line: 1>\u001b[1;34m()\u001b[0m\n\u001b[1;32m----> 1\u001b[0m \u001b[38;5;28;01mfor\u001b[39;00m col \u001b[38;5;129;01min\u001b[39;00m \u001b[43mliste\u001b[49m\u001b[38;5;241m.\u001b[39mcolumns:\n\u001b[0;32m      2\u001b[0m     pct_missing \u001b[38;5;241m=\u001b[39m liste[col]\u001b[38;5;241m.\u001b[39misnull()\u001b[38;5;241m.\u001b[39mmean()                \u001b[38;5;66;03m#to check missing values\u001b[39;00m\n\u001b[0;32m      3\u001b[0m     \u001b[38;5;28mprint\u001b[39m(\u001b[38;5;124mf\u001b[39m\u001b[38;5;124m'\u001b[39m\u001b[38;5;132;01m{\u001b[39;00mcol\u001b[38;5;132;01m}\u001b[39;00m\u001b[38;5;124m - \u001b[39m\u001b[38;5;132;01m{\u001b[39;00mpct_missing \u001b[38;5;132;01m:\u001b[39;00m\u001b[38;5;124m.1%\u001b[39m\u001b[38;5;132;01m}\u001b[39;00m\u001b[38;5;124m'\u001b[39m)\n",
      "\u001b[1;31mNameError\u001b[0m: name 'liste' is not defined"
     ]
    }
   ],
   "source": [
    "for col in liste.columns:\n",
    "    pct_missing = liste[col].isnull().mean()                #to check missing values\n",
    "    print(f'{col} - {pct_missing :.1%}')"
   ]
  },
  {
   "cell_type": "code",
   "execution_count": 22,
   "id": "f25f6d44",
   "metadata": {},
   "outputs": [],
   "source": [
    "liste.to_excel(\"IMDb_movies.xlsx\")"
   ]
  },
  {
   "cell_type": "code",
   "execution_count": null,
   "id": "680a00fd",
   "metadata": {},
   "outputs": [],
   "source": []
  }
 ],
 "metadata": {
  "kernelspec": {
   "display_name": "Python 3 (ipykernel)",
   "language": "python",
   "name": "python3"
  },
  "language_info": {
   "codemirror_mode": {
    "name": "ipython",
    "version": 3
   },
   "file_extension": ".py",
   "mimetype": "text/x-python",
   "name": "python",
   "nbconvert_exporter": "python",
   "pygments_lexer": "ipython3",
   "version": "3.10.0"
  }
 },
 "nbformat": 4,
 "nbformat_minor": 5
}
